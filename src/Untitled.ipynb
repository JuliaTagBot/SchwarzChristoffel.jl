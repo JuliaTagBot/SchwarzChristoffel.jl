{
 "cells": [
  {
   "cell_type": "code",
   "execution_count": 487,
   "metadata": {},
   "outputs": [
    {
     "name": "stderr",
     "output_type": "stream",
     "text": [
      "WARNING: replacing module SchwarzChristoffel\n"
     ]
    },
    {
     "data": {
      "text/plain": [
       "SchwarzChristoffel"
      ]
     },
     "execution_count": 487,
     "metadata": {},
     "output_type": "execute_result"
    }
   ],
   "source": [
    "include(\"SchwarzChristoffel.jl\")"
   ]
  },
  {
   "cell_type": "code",
   "execution_count": 488,
   "metadata": {},
   "outputs": [
    {
     "data": {
      "text/plain": [
       "Polygon with 4 vertices at Complex{Float64}[-1.0-1.0im, 1.0-1.0im, 0.5+1.0im, -1.0+1.0im] \n",
       "             interior angles/π = [0.5, 0.422, 0.578, 0.5]\n"
      ]
     },
     "execution_count": 488,
     "metadata": {},
     "output_type": "execute_result"
    }
   ],
   "source": [
    "p = SchwarzChristoffel.Polygon([-1.0,1.0,0.5,-1.0],[-1.0,-1.0,1.0,1.0])"
   ]
  },
  {
   "cell_type": "code",
   "execution_count": null,
   "metadata": {},
   "outputs": [],
   "source": [
    "SchwarzChristoffel.Polygons.plot(p)"
   ]
  },
  {
   "cell_type": "code",
   "execution_count": null,
   "metadata": {},
   "outputs": [],
   "source": [
    "z = [0.71+im*0.2 0.2+im*0]\n",
    "SchwarzChristoffel.Polygons.plot(p)\n",
    "PyPlot.plot(real.(z),imag.(z),marker=\"o\")\n",
    "SchwarzChristoffel.Polygons.isinpoly.(z,p,1e-5)"
   ]
  },
  {
   "cell_type": "code",
   "execution_count": 464,
   "metadata": {},
   "outputs": [
    {
     "name": "stdout",
     "output_type": "stream",
     "text": [
      "[1.43179 0.0250195 1.39641 1.99984; 1.48104 0.0968518 1.34407 1.99765; 1.5524 0.206077 1.26097 1.98935; 1.63292 0.338078 1.1548 1.97122; 1.70968 0.475107 1.03778 1.94275; 1.77295 0.599196 0.925556 1.90813; 1.81753 0.695022 0.83462 1.87535; 1.84207 0.751734 0.778959 1.85335]\n"
     ]
    },
    {
     "data": {
      "text/plain": [
       "0.8472130847939816"
      ]
     },
     "execution_count": 464,
     "metadata": {},
     "output_type": "execute_result"
    }
   ],
   "source": [
    "z1 = -1.0+0.0im #1.0im\n",
    "z2 = exp(im*5π/4) #exp(im*3π/4)\n",
    "sing1 = 2 #1\n",
    "beta = [0.5,0.5,0.5,0.5]\n",
    "z = [1.0im,-1.0,-1.0im,1.0]\n",
    "nqpts = 8\n",
    "qdat = SchwarzChristoffel.Integration.qdata(beta,nqpts)\n",
    "dquad = SchwarzChristoffel.Exterior.DQuad(z,beta,qdat)\n",
    "dabsquad2 = SchwarzChristoffel.Exterior.DabsQuad(z,beta,qdat)\n",
    "I = dabsquad2(z1,z2,sing1)"
   ]
  },
  {
   "cell_type": "code",
   "execution_count": 454,
   "metadata": {},
   "outputs": [
    {
     "data": {
      "text/plain": [
       "8-element Array{Complex{Float64},1}:\n",
       " 0.00288252-0.00695902im\n",
       "  0.0106214-0.0256423im \n",
       "  0.0207508-0.0500968im \n",
       "  0.0299546-0.0723169im \n",
       "  0.0350199-0.0845455im \n",
       "   0.033766-0.0815182im \n",
       "  0.0256871-0.0620141im \n",
       "  0.0121433-0.0293165im "
      ]
     },
     "execution_count": 454,
     "metadata": {},
     "output_type": "execute_result"
    }
   ],
   "source": [
    "wt = Complex{Float64}[0.00288252-0.00695902im, 0.0106214-0.0256423im, 0.0207508-0.0500968im, 0.0299546-0.0723169im, 0.0350199-0.0845455im, 0.033766-0.0815182im, 0.0256871-0.0620141im, 0.0121433-0.0293165im]"
   ]
  },
  {
   "cell_type": "code",
   "execution_count": 455,
   "metadata": {},
   "outputs": [
    {
     "data": {
      "text/plain": [
       "8-element Array{Complex{Float64},1}:\n",
       "   1.64901-1.17127im\n",
       "   1.58504-1.34517im\n",
       "   1.41529-1.5949im \n",
       "   1.10214-1.82286im\n",
       "   0.70388-1.91522im\n",
       "  0.352431-1.8556im \n",
       "  0.127754-1.7334im \n",
       " 0.0221179-1.64037im"
      ]
     },
     "execution_count": 455,
     "metadata": {},
     "output_type": "execute_result"
    }
   ],
   "source": [
    "expterm = Complex{Float64}[1.64901-1.17127im, 1.58504-1.34517im, 1.41529-1.5949im, 1.10214-1.82286im, 0.70388-1.91522im, 0.352431-1.8556im, 0.127754-1.7334im, 0.0221179-1.64037im]"
   ]
  },
  {
   "cell_type": "code",
   "execution_count": 461,
   "metadata": {},
   "outputs": [
    {
     "data": {
      "text/plain": [
       "-0.59906925001173 - 0.59906962658455im"
      ]
     },
     "execution_count": 461,
     "metadata": {},
     "output_type": "execute_result"
    }
   ],
   "source": [
    "transpose(wt)*expterm"
   ]
  },
  {
   "cell_type": "code",
   "execution_count": 416,
   "metadata": {},
   "outputs": [
    {
     "data": {
      "text/plain": [
       "2-element Array{Complex{Float64},1}:\n",
       " -0.169443-0.565685im\n",
       "  0.565685-0.169443im"
      ]
     },
     "execution_count": 416,
     "metadata": {},
     "output_type": "execute_result"
    }
   ],
   "source": [
    "z1 = [-1.0+0.0im,0.0+1.0im]\n",
    "z2 = [exp(im*5π/4),exp(im*3π/4)]\n",
    "sing1 = [2,1]\n",
    "I = dquad.(z1,z2,sing1)"
   ]
  },
  {
   "cell_type": "code",
   "execution_count": 338,
   "metadata": {},
   "outputs": [
    {
     "data": {
      "text/plain": [
       "y_to_zeta (generic function with 1 method)"
      ]
     },
     "execution_count": 338,
     "metadata": {},
     "output_type": "execute_result"
    }
   ],
   "source": [
    "function deparam(w::Vector{Complex128},beta::Vector{Float64},\n",
    "                 zeta0::Vector{Complex128},qdat)\n",
    "  # w clockwise\n",
    "  # beta turning angles\n",
    "\n",
    "  n = length(w)\n",
    "  if n == 2\n",
    "    zeta = [-1,1]\n",
    "  else\n",
    "    len = abs.(diff(circshift(w,1)))\n",
    "    nmlen = abs.(len[3:n-1]/len[2])\n",
    "    if isempty(zeta0)\n",
    "      y0 = zeros(n-1)\n",
    "    else\n",
    "      zeta0 = zeta0/zeta0[n]\n",
    "      θ = angle.(zeta0)\n",
    "      θ[θ.<=0] = θ[θ.<=0] + 2π\n",
    "      dt = diff([0;θ[1:n-1];2π])\n",
    "      @. y0 = log(dt[1:n-1]/dt[2:n])\n",
    "    end\n",
    "\n",
    "    depfun!(F,y) = SchwarzChristoffel.Exterior.depfunfull!(F,y,n,beta,nmlen,qdat)\n",
    "\n",
    "    F0 = similar(y0)\n",
    "    df = OnceDifferentiable(depfun!, y0, F0)\n",
    "    sol = nlsolve(depfun!,y0,show_trace = :true)\n",
    "\n",
    "    zeta, θ = y_to_zeta(sol.zero)\n",
    "\n",
    "  end\n",
    "\n",
    "  mid = zeta[1]*exp(0.5*im*angle(zeta[2]/zeta[1]))\n",
    "  dabsquad = SchwarzChristoffel.Exterior.DabsQuad(zeta,beta,qdat)\n",
    "  c = (w[2]-w[1])/(dabsquad(zeta[1],mid,1)-dabsquad(zeta[2],mid,2))\n",
    "\n",
    "  return zeta, c\n",
    "\n",
    "end\n",
    "function y_to_zeta(y::Vector{Float64})\n",
    "\n",
    "    cs = cumsum(cumprod([1;exp.(-y)]))\n",
    "    n = length(cs)\n",
    "    θ = 2π*cs[1:n-1]./cs[n]\n",
    "    zeta = ones(Complex128,n)\n",
    "    zeta[1:n-1] = exp.(im*θ)\n",
    "    return zeta, θ\n",
    "\n",
    "  end"
   ]
  },
  {
   "cell_type": "code",
   "execution_count": null,
   "metadata": {},
   "outputs": [],
   "source": []
  },
  {
   "cell_type": "code",
   "execution_count": 485,
   "metadata": {},
   "outputs": [
    {
     "data": {
      "text/plain": [
       "depfunfull! (generic function with 2 methods)"
      ]
     },
     "execution_count": 485,
     "metadata": {},
     "output_type": "execute_result"
    }
   ],
   "source": [
    "function depfunfull!(F,y,n,beta,nmlen,qdat)  \n",
    "    \n",
    "  zeta, θ = SchwarzChristoffel.Exterior.y_to_zeta(y)  \n",
    "  mid = exp.(im*0.5*(θ[1:n-2]+θ[2:n-1]))\n",
    "  #dabsquad(z1,z2,sing1) = SchwarzChristoffel.Exterior.dabsquad(z1,z2,sing1,zeta,beta,qdat)\n",
    "  dabsquad = SchwarzChristoffel.Exterior.DabsQuad(zeta,beta,qdat)\n",
    "  ints = dabsquad.(zeta[1:n-2],mid,collect(1:n-2)) + dabsquad.(zeta[2:n-1],mid,collect(2:n-1))\n",
    "  \n",
    "    println(qdat[1])\n",
    "    println(qdat[2])    \n",
    "  if n > 3\n",
    "    F[1:n-3] = abs.(ints[2:n-2])/abs(ints[1]) - nmlen\n",
    "  end\n",
    "\n",
    "  res = -sum(beta./zeta)/ints[1]\n",
    "  F[n-2] = real(res)\n",
    "  F[n-1] = imag(res)  \n",
    "    \n",
    "end"
   ]
  },
  {
   "cell_type": "code",
   "execution_count": 486,
   "metadata": {},
   "outputs": [
    {
     "name": "stdout",
     "output_type": "stream",
     "text": [
      "[-0.936287 -0.936287 -0.936287 -0.936287 -0.96029; -0.753272 -0.753272 -0.753272 -0.753272 -0.796666; -0.474297 -0.474297 -0.474297 -0.474297 -0.525532; -0.134937 -0.134937 -0.134937 -0.134937 -0.183435; 0.221528 0.221528 0.221528 0.221528 0.183435; 0.549642 0.549642 0.549642 0.549642 0.525532; 0.807568 0.807568 0.807568 0.807568 0.796666; 0.96248 0.96248 0.96248 0.96248 0.96029]\n",
      "[0.031818 0.031818 0.031818 0.031818 0.101229; 0.117242 0.117242 0.117242 0.117242 0.222381; 0.229053 0.229053 0.229053 0.229053 0.313707; 0.330647 0.330647 0.330647 0.330647 0.362684; 0.386559 0.386559 0.386559 0.386559 0.362684; 0.372718 0.372718 0.372718 0.372718 0.313707; 0.283541 0.283541 0.283541 0.283541 0.222381; 0.134041 0.134041 0.134041 0.134041 0.101229]\n",
      "[-0.45049, -0.0423905, -0.0423905]\n",
      "[-0.45049, -0.0423905, -0.0423905]\n"
     ]
    }
   ],
   "source": [
    "w = flipdim(p.vert,1)\n",
    "beta = 1.0-flipdim(p.angle,1)\n",
    "len = abs.(diff(circshift(w,1)))\n",
    "nmlen = abs.(len[3:n-1]/len[2])\n",
    "F = zeros(n-1)\n",
    "y0 = zeros(n-1)\n",
    "qdat = \n",
    "depfunfull!(F,y0,n,beta,nmlen,qdat)\n",
    "println(F)\n",
    "SchwarzChristoffel.Exterior.depfunfull!(F,y0,n,beta,nmlen,qdat)\n",
    "println(F)"
   ]
  },
  {
   "cell_type": "code",
   "execution_count": null,
   "metadata": {},
   "outputs": [],
   "source": [
    "w = flipdim(p.vert,1)\n",
    "beta = 1.0-flipdim(p.angle,1)\n",
    "zeta0 = Complex128[]\n",
    "n = length(w)\n",
    "tol = 1e-8\n",
    "nqpts = max(ceil(Int,-log10(tol)),2)\n",
    "qdat = SchwarzChristoffel.Integration.qdata(beta,nqpts)\n",
    "#len = abs.(diff(circshift(w,1)))\n",
    "#nmlen = abs.(len[3:n-1]/len[2])\n",
    "#depfun!(F,y) = depfunfull!(F,y,n,beta,nmlen,qdat)\n",
    "\n",
    "#y0 = zeros(n-1)\n",
    "#F0 = similar(y0)\n",
    "#df = OnceDifferentiable(depfun!, y0, F0)\n",
    "#sol = nlsolve(depfun!,y0,show_trace = :true)\n",
    "\n",
    "#zeta, θ = SchwarzChristoffel.Exterior.y_to_zeta(sol.zero)\n",
    "#zeta\n",
    "zeta, c = SchwarzChristoffel.Exterior.deparam(w,beta,zeta0,qdat)"
   ]
  },
  {
   "cell_type": "code",
   "execution_count": 491,
   "metadata": {},
   "outputs": [
    {
     "data": {
      "text/plain": [
       "4-element Array{Complex{Float64},1}:\n",
       " -0.0195313+0.999809im\n",
       "  -0.984827+0.173541im\n",
       "    -0.1291-0.991632im\n",
       "        1.0+0.0im     "
      ]
     },
     "execution_count": 491,
     "metadata": {},
     "output_type": "execute_result"
    }
   ],
   "source": [
    "zeta"
   ]
  },
  {
   "cell_type": "code",
   "execution_count": 489,
   "metadata": {},
   "outputs": [
    {
     "ename": "LoadError",
     "evalue": "\u001b[91mMethodError: no method matching deparam(::Array{Complex{Float64},1}, ::Array{Float64,1}, ::Array{Complex{Float64},1})\u001b[0m\nClosest candidates are:\n  deparam(::Array{Complex{Float64},1}, ::Array{Float64,1}, ::Array{Complex{Float64},1}, \u001b[91m::Any\u001b[39m) at /Users/jeff/.julia/v0.6/SchwarzChristoffel/src/Exterior.jl:175\u001b[39m",
     "output_type": "error",
     "traceback": [
      "\u001b[91mMethodError: no method matching deparam(::Array{Complex{Float64},1}, ::Array{Float64,1}, ::Array{Complex{Float64},1})\u001b[0m\nClosest candidates are:\n  deparam(::Array{Complex{Float64},1}, ::Array{Float64,1}, ::Array{Complex{Float64},1}, \u001b[91m::Any\u001b[39m) at /Users/jeff/.julia/v0.6/SchwarzChristoffel/src/Exterior.jl:175\u001b[39m",
      "",
      "Stacktrace:",
      " [1] \u001b[1mSchwarzChristoffel.Exterior.Extermap\u001b[22m\u001b[22m\u001b[1m(\u001b[22m\u001b[22m::SchwarzChristoffel.Polygons.Polygon\u001b[1m)\u001b[22m\u001b[22m at \u001b[1m/Users/jeff/.julia/v0.6/SchwarzChristoffel/src/Exterior.jl:35\u001b[22m\u001b[22m",
      " [2] \u001b[1minclude_string\u001b[22m\u001b[22m\u001b[1m(\u001b[22m\u001b[22m::String, ::String\u001b[1m)\u001b[22m\u001b[22m at \u001b[1m./loading.jl:522\u001b[22m\u001b[22m"
     ]
    }
   ],
   "source": [
    "SchwarzChristoffel.Exterior.Extermap(p)"
   ]
  },
  {
   "cell_type": "code",
   "execution_count": null,
   "metadata": {},
   "outputs": [],
   "source": [
    "deparam(flipdim(p.vert,1),1.-flipdim(p.angle,1),Complex128[],qdat)"
   ]
  },
  {
   "cell_type": "code",
   "execution_count": 419,
   "metadata": {},
   "outputs": [
    {
     "name": "stdout",
     "output_type": "stream",
     "text": [
      "Iter     f(x) inf-norm    Step 2-norm \n",
      "------   --------------   --------------\n",
      "     0     3.743685e-01              NaN\n",
      "     1     7.992707e-02     3.772555e-01\n",
      "     2     2.169546e-03     5.531535e-02\n",
      "     3     1.718285e-06     1.586825e-03\n",
      "     4     1.080469e-12     1.258762e-06\n"
     ]
    },
    {
     "data": {
      "text/plain": [
       "(Complex{Float64}[-0.144345+0.989527im, -1.0+5.66554e-16im, 0.144345-0.989527im, 1.0+0.0im], 1.0273217604172857 + 1.1880523385366173im)"
      ]
     },
     "execution_count": 419,
     "metadata": {},
     "output_type": "execute_result"
    }
   ],
   "source": [
    "zeta,c = SchwarzChristoffel.Exterior.deparam(w,beta,zeta0,qdat)"
   ]
  },
  {
   "cell_type": "code",
   "execution_count": 421,
   "metadata": {},
   "outputs": [
    {
     "data": {
      "text/plain": [
       "4-element Array{Complex{Float64},1}:\n",
       " -0.144345+0.989527im   \n",
       "      -1.0+5.66554e-16im\n",
       "  0.144345-0.989527im   \n",
       "       1.0+0.0im        "
      ]
     },
     "execution_count": 421,
     "metadata": {},
     "output_type": "execute_result"
    }
   ],
   "source": [
    "zeta"
   ]
  },
  {
   "cell_type": "code",
   "execution_count": 90,
   "metadata": {},
   "outputs": [
    {
     "data": {
      "text/plain": [
       "4-element Array{Float64,1}:\n",
       "  3.92699\n",
       "  1.5708 \n",
       " -4.39064\n",
       "  5.17604"
      ]
     },
     "execution_count": 90,
     "metadata": {},
     "output_type": "execute_result"
    }
   ],
   "source": [
    "θ = angle.(p.vert)\n",
    "θ[θ.<=0] = θ[θ.<=0] + 2π\n",
    "diff([0;θ[1:end-1];2π])"
   ]
  },
  {
   "cell_type": "code",
   "execution_count": 37,
   "metadata": {},
   "outputs": [
    {
     "data": {
      "text/plain": [
       "arraystuff2 (generic function with 1 method)"
      ]
     },
     "execution_count": 37,
     "metadata": {},
     "output_type": "execute_result"
    }
   ],
   "source": [
    "function arraystuff2(a::Vector{Float64},b::Vector{Complex128})\n",
    "    @assert length(a)==length(b)\n",
    "    a[1]\n",
    "end"
   ]
  },
  {
   "cell_type": "code",
   "execution_count": 41,
   "metadata": {},
   "outputs": [
    {
     "ename": "LoadError",
     "evalue": "\u001b[91mAssertionError: length(a) == length(b)\u001b[39m",
     "output_type": "error",
     "traceback": [
      "\u001b[91mAssertionError: length(a) == length(b)\u001b[39m",
      "",
      "Stacktrace:",
      " [1] \u001b[1marraystuff2\u001b[22m\u001b[22m\u001b[1m(\u001b[22m\u001b[22m::Array{Float64,1}, ::Array{Complex{Float64},1}\u001b[1m)\u001b[22m\u001b[22m at \u001b[1m./In[37]:2\u001b[22m\u001b[22m",
      " [2] \u001b[1minclude_string\u001b[22m\u001b[22m\u001b[1m(\u001b[22m\u001b[22m::String, ::String\u001b[1m)\u001b[22m\u001b[22m at \u001b[1m./loading.jl:522\u001b[22m\u001b[22m"
     ]
    }
   ],
   "source": [
    "arraystuff2([1.0;2.0],Complex128[1;4;5])"
   ]
  },
  {
   "cell_type": "code",
   "execution_count": 45,
   "metadata": {},
   "outputs": [
    {
     "data": {
      "text/plain": [
       "Array{Complex{Float64},1}"
      ]
     },
     "execution_count": 45,
     "metadata": {},
     "output_type": "execute_result"
    }
   ],
   "source": [
    "typeof(Complex128[])"
   ]
  },
  {
   "cell_type": "code",
   "execution_count": 53,
   "metadata": {},
   "outputs": [
    {
     "data": {
      "text/plain": [
       "Int64"
      ]
     },
     "execution_count": 53,
     "metadata": {},
     "output_type": "execute_result"
    }
   ],
   "source": [
    "typeof(max(ceil(Int,-log10(1e-8)),2))"
   ]
  },
  {
   "cell_type": "code",
   "execution_count": 49,
   "metadata": {},
   "outputs": [
    {
     "ename": "LoadError",
     "evalue": "\u001b[91margument is an abstract type; size is indeterminate\u001b[39m",
     "output_type": "error",
     "traceback": [
      "\u001b[91margument is an abstract type; size is indeterminate\u001b[39m",
      "",
      "Stacktrace:",
      " [1] \u001b[1msizeof\u001b[22m\u001b[22m\u001b[1m(\u001b[22m\u001b[22m::Type{T} where T\u001b[1m)\u001b[22m\u001b[22m at \u001b[1m./essentials.jl:159\u001b[22m\u001b[22m",
      " [2] \u001b[1minclude_string\u001b[22m\u001b[22m\u001b[1m(\u001b[22m\u001b[22m::String, ::String\u001b[1m)\u001b[22m\u001b[22m at \u001b[1m./loading.jl:522\u001b[22m\u001b[22m"
     ]
    }
   ],
   "source": [
    "sizeof(Integer)"
   ]
  },
  {
   "cell_type": "code",
   "execution_count": null,
   "metadata": {},
   "outputs": [],
   "source": []
  }
 ],
 "metadata": {
  "kernelspec": {
   "display_name": "Julia 0.6.2",
   "language": "julia",
   "name": "julia-0.6"
  },
  "language_info": {
   "file_extension": ".jl",
   "mimetype": "application/julia",
   "name": "julia",
   "version": "0.6.2"
  }
 },
 "nbformat": 4,
 "nbformat_minor": 2
}
