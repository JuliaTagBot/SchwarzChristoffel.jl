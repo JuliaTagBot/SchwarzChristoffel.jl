{
 "cells": [
  {
   "cell_type": "code",
   "execution_count": 879,
   "metadata": {},
   "outputs": [
    {
     "name": "stderr",
     "output_type": "stream",
     "text": [
      "WARNING: replacing module SchwarzChristoffel\n"
     ]
    },
    {
     "data": {
      "text/plain": [
       "SchwarzChristoffel"
      ]
     },
     "execution_count": 879,
     "metadata": {},
     "output_type": "execute_result"
    }
   ],
   "source": [
    "include(\"SchwarzChristoffel.jl\")"
   ]
  },
  {
   "cell_type": "code",
   "execution_count": 880,
   "metadata": {},
   "outputs": [
    {
     "data": {
      "text/plain": [
       "Polygon with 4 vertices at Complex{Float64}[-1.0-1.0im, 0.2-1.0im, 1.0+0.5im, -1.0+1.0im] \n",
       "             interior angles/π = [0.5, 0.656, 0.422, 0.422]\n"
      ]
     },
     "execution_count": 880,
     "metadata": {},
     "output_type": "execute_result"
    }
   ],
   "source": [
    "p = SchwarzChristoffel.Polygon([-1.0,0.2,1.0,-1.0],[-1.0,-1.0,0.5,1.0])"
   ]
  },
  {
   "cell_type": "code",
   "execution_count": 881,
   "metadata": {},
   "outputs": [
    {
     "data": {
      "image/png": "[encoded data removed]",
      "text/plain": [
       "PyPlot.Figure(PyObject <matplotlib.figure.Figure object at 0x12bd13b90>)"
      ]
     },
     "metadata": {},
     "output_type": "display_data"
    },
    {
     "data": {
      "text/plain": [
       "(-1.1, 1.1, -1.1, 1.1)"
      ]
     },
     "execution_count": 881,
     "metadata": {},
     "output_type": "execute_result"
    }
   ],
   "source": [
    "SchwarzChristoffel.plot(p)"
   ]
  },
  {
   "cell_type": "code",
   "execution_count": 882,
   "metadata": {},
   "outputs": [
    {
     "data": {
      "image/png": "[encoded data removed]",
      "text/plain": [
       "PyPlot.Figure(PyObject <matplotlib.figure.Figure object at 0x130af7e50>)"
      ]
     },
     "metadata": {},
     "output_type": "display_data"
    },
    {
     "data": {
      "text/plain": [
       "1×2 BitArray{2}:\n",
       " true  true"
      ]
     },
     "execution_count": 882,
     "metadata": {},
     "output_type": "execute_result"
    }
   ],
   "source": [
    "z = [0.71+im*0.2 0.2+im*0]\n",
    "SchwarzChristoffel.Polygons.plot(p)\n",
    "PyPlot.plot(real.(z),imag.(z),marker=\"o\")\n",
    "SchwarzChristoffel.isinpoly.(z,p,1e-5)"
   ]
  },
  {
   "cell_type": "code",
   "execution_count": 883,
   "metadata": {},
   "outputs": [
    {
     "data": {
      "text/plain": [
       "0.8472130847939816"
      ]
     },
     "execution_count": 883,
     "metadata": {},
     "output_type": "execute_result"
    }
   ],
   "source": [
    "z1 = -1.0+0.0im #1.0im\n",
    "z2 = exp(im*5π/4) #exp(im*3π/4)\n",
    "sing1 = 2 #1\n",
    "beta = [0.5,0.5,0.5,0.5]\n",
    "z = [1.0im,-1.0,-1.0im,1.0]\n",
    "nqpts = 8\n",
    "qdat = SchwarzChristoffel.Integration.qdata(beta,nqpts)\n",
    "dquad = SchwarzChristoffel.Exterior.DQuad(z,beta,qdat)\n",
    "dabsquad2 = SchwarzChristoffel.Exterior.DabsQuad(z,beta,qdat)\n",
    "I = dabsquad2(z1,z2,sing1)"
   ]
  },
  {
   "cell_type": "code",
   "execution_count": 884,
   "metadata": {},
   "outputs": [
    {
     "data": {
      "text/plain": [
       "2-element Array{Complex{Float64},1}:\n",
       " -0.59907-0.59907im\n",
       "  0.59907-0.59907im"
      ]
     },
     "execution_count": 884,
     "metadata": {},
     "output_type": "execute_result"
    }
   ],
   "source": [
    "z1 = [-1.0+0.0im,0.0+1.0im]\n",
    "z2 = [exp(im*5π/4),exp(im*3π/4)]\n",
    "sing1 = [2,1]\n",
    "I = dquad.(z1,z2,sing1)"
   ]
  },
  {
   "cell_type": "code",
   "execution_count": 885,
   "metadata": {},
   "outputs": [
    {
     "data": {
      "text/plain": [
       "Exterior map with 4 vertices at\n",
       "       -1.0 - 1.0im\n",
       "       0.2 - 1.0im\n",
       "       1.0 + 0.5im\n",
       "       -1.0 + 1.0im\n",
       "   interior angles/π at\n",
       "       0.5\n",
       "       0.656\n",
       "       0.422\n",
       "       0.422\n",
       "   prevertices on circle at\n",
       "       1.0 + 0.0im\n",
       "       0.3764 - 0.9265im\n",
       "       -0.9024 - 0.4309im\n",
       "       -0.1868 + 0.9824im\n",
       "   constant = 0.6722 + 0.7669im\n",
       "   accuracy = 1.0e-8\n"
      ]
     },
     "execution_count": 885,
     "metadata": {},
     "output_type": "execute_result"
    }
   ],
   "source": [
    "map = SchwarzChristoffel.ExteriorMap(p)"
   ]
  },
  {
   "cell_type": "code",
   "execution_count": 886,
   "metadata": {},
   "outputs": [
    {
     "data": {
      "text/plain": [
       "(Complex{Float64}[-0.186756+0.982406im, -0.902383-0.430935im, 0.376406-0.926455im, 1.0+0.0im], 0.6722109863402015 + 0.7668866078562682im)"
      ]
     },
     "execution_count": 886,
     "metadata": {},
     "output_type": "execute_result"
    }
   ],
   "source": [
    "prev, C = SchwarzChristoffel.parameters(map)"
   ]
  },
  {
   "cell_type": "code",
   "execution_count": 887,
   "metadata": {},
   "outputs": [
    {
     "data": {
      "text/plain": [
       "3-element Array{Complex{Float64},1}:\n",
       "   -6.9344-7.68965im \n",
       " 0.0439774-1.11249im \n",
       "   2.41181-0.044779im"
      ]
     },
     "execution_count": 887,
     "metadata": {},
     "output_type": "execute_result"
    }
   ],
   "source": [
    "zeta = [0.1,0.5-0.75im,-0.25-0.3im]\n",
    "SchwarzChristoffel.evaluate(zeta,map)"
   ]
  },
  {
   "cell_type": "code",
   "execution_count": null,
   "metadata": {},
   "outputs": [],
   "source": []
  }
 ],
 "metadata": {
  "kernelspec": {
   "display_name": "Julia 0.6.2",
   "language": "julia",
   "name": "julia-0.6"
  },
  "language_info": {
   "file_extension": ".jl",
   "mimetype": "application/julia",
   "name": "julia",
   "version": "0.6.2"
  }
 },
 "nbformat": 4,
 "nbformat_minor": 2
}
