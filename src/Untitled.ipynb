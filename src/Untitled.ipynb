{
 "cells": [
  {
   "cell_type": "code",
   "execution_count": 538,
   "metadata": {},
   "outputs": [
    {
     "name": "stderr",
     "output_type": "stream",
     "text": [
      "WARNING: replacing module SchwarzChristoffel\n"
     ]
    },
    {
     "data": {
      "text/plain": [
       "SchwarzChristoffel"
      ]
     },
     "execution_count": 538,
     "metadata": {},
     "output_type": "execute_result"
    }
   ],
   "source": [
    "include(\"SchwarzChristoffel.jl\")"
   ]
  },
  {
   "cell_type": "code",
   "execution_count": 543,
   "metadata": {},
   "outputs": [
    {
     "data": {
      "text/plain": [
       "Polygon with 4 vertices at Complex{Float64}[-1.0-1.0im, 0.2-1.0im, 1.0+0.5im, -1.0+1.0im] \n",
       "             interior angles/π = [0.5, 0.656, 0.422, 0.422]\n"
      ]
     },
     "execution_count": 543,
     "metadata": {},
     "output_type": "execute_result"
    }
   ],
   "source": [
    "p = SchwarzChristoffel.Polygon([-1.0,0.2,1.0,-1.0],[-1.0,-1.0,0.5,1.0])"
   ]
  },
  {
   "cell_type": "code",
   "execution_count": 544,
   "metadata": {},
   "outputs": [
    {
     "data": {
      "image/png": "[encoded data removed]",
      "text/plain": [
       "PyPlot.Figure(PyObject <matplotlib.figure.Figure object at 0x126ba4550>)"
      ]
     },
     "metadata": {},
     "output_type": "display_data"
    },
    {
     "data": {
      "text/plain": [
       "(-1.1, 1.1, -1.1, 1.1)"
      ]
     },
     "execution_count": 544,
     "metadata": {},
     "output_type": "execute_result"
    }
   ],
   "source": [
    "SchwarzChristoffel.Polygons.plot(p)"
   ]
  },
  {
   "cell_type": "code",
   "execution_count": null,
   "metadata": {},
   "outputs": [],
   "source": [
    "z = [0.71+im*0.2 0.2+im*0]\n",
    "SchwarzChristoffel.Polygons.plot(p)\n",
    "PyPlot.plot(real.(z),imag.(z),marker=\"o\")\n",
    "SchwarzChristoffel.Polygons.isinpoly.(z,p,1e-5)"
   ]
  },
  {
   "cell_type": "code",
   "execution_count": 496,
   "metadata": {},
   "outputs": [
    {
     "data": {
      "text/plain": [
       "0.8472130847939816"
      ]
     },
     "execution_count": 496,
     "metadata": {},
     "output_type": "execute_result"
    }
   ],
   "source": [
    "z1 = -1.0+0.0im #1.0im\n",
    "z2 = exp(im*5π/4) #exp(im*3π/4)\n",
    "sing1 = 2 #1\n",
    "beta = [0.5,0.5,0.5,0.5]\n",
    "z = [1.0im,-1.0,-1.0im,1.0]\n",
    "nqpts = 8\n",
    "qdat = SchwarzChristoffel.Integration.qdata(beta,nqpts)\n",
    "dquad = SchwarzChristoffel.Exterior.DQuad(z,beta,qdat)\n",
    "dabsquad2 = SchwarzChristoffel.Exterior.DabsQuad(z,beta,qdat)\n",
    "I = dabsquad2(z1,z2,sing1)"
   ]
  },
  {
   "cell_type": "code",
   "execution_count": 416,
   "metadata": {},
   "outputs": [
    {
     "data": {
      "text/plain": [
       "2-element Array{Complex{Float64},1}:\n",
       " -0.169443-0.565685im\n",
       "  0.565685-0.169443im"
      ]
     },
     "execution_count": 416,
     "metadata": {},
     "output_type": "execute_result"
    }
   ],
   "source": [
    "z1 = [-1.0+0.0im,0.0+1.0im]\n",
    "z2 = [exp(im*5π/4),exp(im*3π/4)]\n",
    "sing1 = [2,1]\n",
    "I = dquad.(z1,z2,sing1)"
   ]
  },
  {
   "cell_type": "code",
   "execution_count": 513,
   "metadata": {},
   "outputs": [
    {
     "data": {
      "text/plain": [
       "4-element Array{Complex{Float64},1}:\n",
       " -0.0567902+0.998386im\n",
       "  -0.983643+0.180131im\n",
       " -0.0977323-0.995213im\n",
       "        1.0+0.0im     "
      ]
     },
     "execution_count": 513,
     "metadata": {},
     "output_type": "execute_result"
    }
   ],
   "source": [
    "mat = Complex{Float64}[-0.0567902+0.998386im, -0.983643+0.180131im, -0.0977323-0.995213im, 1.0+0.0im]\n",
    "println(\"\")"
   ]
  },
  {
   "cell_type": "code",
   "execution_count": 545,
   "metadata": {},
   "outputs": [
    {
     "data": {
      "text/plain": [
       "Exterior map with 4 vertices at\n",
       "       -1.0 - 1.0im\n",
       "       0.2 - 1.0im\n",
       "       1.0 + 0.5im\n",
       "       -1.0 + 1.0im\n",
       "   interior angles/π at\n",
       "       0.5\n",
       "       0.656\n",
       "       0.422\n",
       "       0.422\n",
       "   prevertices on circle at\n",
       "       1.0 + 0.0im\n",
       "       0.3764 - 0.9265im\n",
       "       -0.9024 - 0.4309im\n",
       "       -0.1868 + 0.9824im\n",
       "   constant = 0.6722 + 0.7669im\n",
       "   accuracy = 1.0e-8\n"
      ]
     },
     "execution_count": 545,
     "metadata": {},
     "output_type": "execute_result"
    }
   ],
   "source": [
    "map = SchwarzChristoffel.Exterior.ExteriorMap(p)"
   ]
  },
  {
   "cell_type": "code",
   "execution_count": 546,
   "metadata": {},
   "outputs": [
    {
     "data": {
      "text/plain": [
       "(Complex{Float64}[1.0+0.0im, 0.376406-0.926455im, -0.902383-0.430935im, -0.186756+0.982406im], 0.6722109863402015 + 0.7668866078562682im)"
      ]
     },
     "execution_count": 546,
     "metadata": {},
     "output_type": "execute_result"
    }
   ],
   "source": [
    "prev, C = SchwarzChristoffel.Exterior.parameters(map)"
   ]
  },
  {
   "cell_type": "code",
   "execution_count": 523,
   "metadata": {},
   "outputs": [
    {
     "data": {
      "text/plain": [
       "4-element Array{Complex{Float64},1}:\n",
       " -0.0567902+0.998386im\n",
       "  -0.983643+0.180131im\n",
       " -0.0977323-0.995213im\n",
       "        1.0+0.0im     "
      ]
     },
     "execution_count": 523,
     "metadata": {},
     "output_type": "execute_result"
    }
   ],
   "source": [
    "prev"
   ]
  },
  {
   "cell_type": "code",
   "execution_count": 531,
   "metadata": {},
   "outputs": [
    {
     "name": "stdout",
     "output_type": "stream",
     "text": [
      "Complex{Float64}[-0.0568+0.9984im, -0.9836+0.1801im, -0.0977-0.9952im]\n"
     ]
    }
   ],
   "source": [
    "println(\"$(round.(prev[i],4))\")"
   ]
  },
  {
   "cell_type": "code",
   "execution_count": null,
   "metadata": {},
   "outputs": [],
   "source": []
  }
 ],
 "metadata": {
  "kernelspec": {
   "display_name": "Julia 0.6.2",
   "language": "julia",
   "name": "julia-0.6"
  },
  "language_info": {
   "file_extension": ".jl",
   "mimetype": "application/julia",
   "name": "julia",
   "version": "0.6.2"
  }
 },
 "nbformat": 4,
 "nbformat_minor": 2
}
