{
 "cells": [
  {
   "cell_type": "code",
   "execution_count": 385,
   "metadata": {},
   "outputs": [
    {
     "name": "stderr",
     "output_type": "stream",
     "text": [
      "WARNING: replacing module SchwarzChristoffel\n"
     ]
    },
    {
     "data": {
      "text/plain": [
       "SchwarzChristoffel"
      ]
     },
     "execution_count": 385,
     "metadata": {},
     "output_type": "execute_result"
    }
   ],
   "source": [
    "include(\"SchwarzChristoffel.jl\")"
   ]
  },
  {
   "cell_type": "code",
   "execution_count": 386,
   "metadata": {},
   "outputs": [
    {
     "data": {
      "text/plain": [
       "Polygon with 4 vertices at Complex{Float64}[-1.0-1.0im, 1.0-1.0im, 0.5+1.0im, -1.0+1.0im] \n",
       "             interior angles/π = [0.5, 0.422, 0.578, 0.5]\n"
      ]
     },
     "execution_count": 386,
     "metadata": {},
     "output_type": "execute_result"
    }
   ],
   "source": [
    "p = SchwarzChristoffel.Polygon([-1.0,1.0,0.5,-1.0],[-1.0,-1.0,1.0,1.0])"
   ]
  },
  {
   "cell_type": "code",
   "execution_count": null,
   "metadata": {},
   "outputs": [],
   "source": [
    "SchwarzChristoffel.Polygons.plot(p)"
   ]
  },
  {
   "cell_type": "code",
   "execution_count": null,
   "metadata": {},
   "outputs": [],
   "source": [
    "z = [0.71+im*0.2 0.2+im*0]\n",
    "SchwarzChristoffel.Polygons.plot(p)\n",
    "PyPlot.plot(real.(z),imag.(z),marker=\"o\")\n",
    "SchwarzChristoffel.Polygons.isinpoly.(z,p,1e-5)"
   ]
  },
  {
   "cell_type": "code",
   "execution_count": 336,
   "metadata": {},
   "outputs": [
    {
     "data": {
      "text/plain": [
       "0.8472130847939816"
      ]
     },
     "execution_count": 336,
     "metadata": {},
     "output_type": "execute_result"
    }
   ],
   "source": [
    "z1 = -1.0+0.0im #1.0im\n",
    "z2 = exp(im*5π/4) #exp(im*3π/4)\n",
    "sing1 = 2 #1\n",
    "beta = [0.5,0.5,0.5,0.5]\n",
    "z = [1.0im,-1.0,-1.0im,1.0]\n",
    "qdat = SchwarzChristoffel.Integration.qdata(beta,8)\n",
    "dabsquad2 = SchwarzChristoffel.Exterior.DabsQuad(z,beta,qdat)\n",
    "I = dabsquad2(z1,z2,sing1)"
   ]
  },
  {
   "cell_type": "code",
   "execution_count": 337,
   "metadata": {},
   "outputs": [
    {
     "data": {
      "text/plain": [
       "2-element Array{Float64,1}:\n",
       " 0.847213\n",
       " 0.847213"
      ]
     },
     "execution_count": 337,
     "metadata": {},
     "output_type": "execute_result"
    }
   ],
   "source": [
    "z1 = [-1.0+0.0im,0.0+1.0im]\n",
    "z2 = [exp(im*5π/4),exp(im*3π/4)]\n",
    "sing1 = [2,1]\n",
    "I = dabsquad2.(z1,z2,sing1)"
   ]
  },
  {
   "cell_type": "code",
   "execution_count": 338,
   "metadata": {},
   "outputs": [
    {
     "data": {
      "text/plain": [
       "y_to_zeta (generic function with 1 method)"
      ]
     },
     "execution_count": 338,
     "metadata": {},
     "output_type": "execute_result"
    }
   ],
   "source": [
    "function deparam(w::Vector{Complex128},beta::Vector{Float64},\n",
    "                 zeta0::Vector{Complex128},qdat)\n",
    "  # w clockwise\n",
    "  # beta turning angles\n",
    "\n",
    "  n = length(w)\n",
    "  if n == 2\n",
    "    zeta = [-1,1]\n",
    "  else\n",
    "    len = abs.(diff(circshift(w,1)))\n",
    "    nmlen = abs.(len[3:n-1]/len[2])\n",
    "    if isempty(zeta0)\n",
    "      y0 = zeros(n-1)\n",
    "    else\n",
    "      zeta0 = zeta0/zeta0[n]\n",
    "      θ = angle.(zeta0)\n",
    "      θ[θ.<=0] = θ[θ.<=0] + 2π\n",
    "      dt = diff([0;θ[1:n-1];2π])\n",
    "      @. y0 = log(dt[1:n-1]/dt[2:n])\n",
    "    end\n",
    "\n",
    "    depfun!(F,y) = SchwarzChristoffel.Exterior.depfunfull!(F,y,n,beta,nmlen,qdat)\n",
    "\n",
    "    F0 = similar(y0)\n",
    "    df = OnceDifferentiable(depfun!, y0, F0)\n",
    "    sol = nlsolve(depfun!,y0,show_trace = :true)\n",
    "\n",
    "    zeta, θ = y_to_zeta(sol.zero)\n",
    "\n",
    "  end\n",
    "\n",
    "  mid = zeta[1]*exp(0.5*im*angle(zeta[2]/zeta[1]))\n",
    "  dabsquad = SchwarzChristoffel.Exterior.DabsQuad(zeta,beta,qdat)\n",
    "  c = (w[2]-w[1])/(dabsquad(zeta[1],mid,1)-dabsquad(zeta[2],mid,2))\n",
    "\n",
    "  return zeta, c\n",
    "\n",
    "end\n",
    "function y_to_zeta(y::Vector{Float64})\n",
    "\n",
    "    cs = cumsum(cumprod([1;exp.(-y)]))\n",
    "    n = length(cs)\n",
    "    θ = 2π*cs[1:n-1]./cs[n]\n",
    "    zeta = ones(Complex128,n)\n",
    "    zeta[1:n-1] = exp.(im*θ)\n",
    "    return zeta, θ\n",
    "\n",
    "  end"
   ]
  },
  {
   "cell_type": "code",
   "execution_count": 378,
   "metadata": {},
   "outputs": [
    {
     "data": {
      "text/plain": [
       "depfunfull! (generic function with 2 methods)"
      ]
     },
     "execution_count": 378,
     "metadata": {},
     "output_type": "execute_result"
    }
   ],
   "source": [
    "function depfunfull!(F,y,n,beta,nmlen,qdat)  \n",
    "    \n",
    "  zeta, θ = SchwarzChristoffel.Exterior.y_to_zeta(y)  \n",
    "  mid = exp.(im*0.5*(θ[1:n-2]+θ[2:n-1]))\n",
    "  #dabsquad(z1,z2,sing1) = SchwarzChristoffel.Exterior.dabsquad(z1,z2,sing1,zeta,beta,qdat)\n",
    "  dabsquad = SchwarzChristoffel.Exterior.DabsQuad(zeta,beta,qdat)\n",
    "  ints = dabsquad.(zeta[1:n-2],mid,collect(1:n-2)) + dabsquad.(zeta[2:n-1],mid,collect(2:n-1))\n",
    "    println(ints)\n",
    "    \n",
    "  if n > 3\n",
    "    F[1:n-3] = abs.(ints[2:n-2])/abs(ints[1]) - nmlen\n",
    "  end\n",
    "\n",
    "  res = -sum(beta./zeta)/ints[1]\n",
    "  F[n-2] = real(res)\n",
    "  F[n-1] = imag(res)  \n",
    "    \n",
    "end"
   ]
  },
  {
   "cell_type": "code",
   "execution_count": 379,
   "metadata": {},
   "outputs": [
    {
     "name": "stdout",
     "output_type": "stream",
     "text": [
      "0.8896074270553815\n",
      "0.917211037029498\n",
      "0.9517649480908896\n",
      "0.7857931143315692\n",
      "[1.84137, 1.703]\n",
      "[-0.449513, -0.0423484, -0.0423484]\n",
      "0.8896074270553815\n",
      "0.917211037029498\n",
      "0.9517649480908896\n",
      "0.7857931143315692\n",
      "[1.84137, 1.703]\n",
      "[-0.449513, -0.0423484, -0.0423484]\n"
     ]
    }
   ],
   "source": [
    "w = flipdim(p.vert,1)\n",
    "beta = 1.0-flipdim(p.angle,1)\n",
    "len = abs.(diff(circshift(w,1)))\n",
    "nmlen = abs.(len[3:n-1]/len[2])\n",
    "F = zeros(n-1)\n",
    "y0 = zeros(n-1)\n",
    "depfunfull!(F,y0,n,beta,nmlen,qdat)\n",
    "println(F)\n",
    "SchwarzChristoffel.Exterior.depfunfull!(F,y0,n,beta,nmlen,qdat)\n",
    "println(F)"
   ]
  },
  {
   "cell_type": "code",
   "execution_count": 339,
   "metadata": {},
   "outputs": [
    {
     "name": "stdout",
     "output_type": "stream",
     "text": [
      "Iter     f(x) inf-norm    Step 2-norm \n",
      "------   --------------   --------------\n",
      "     0     3.433396e-01              NaN\n",
      "     1     6.010255e-02     2.406970e-01\n",
      "     2     2.486045e-03     3.495361e-02\n",
      "     3     1.732264e-06     2.920999e-03\n",
      "     4     2.300974e-12     2.015030e-06\n"
     ]
    },
    {
     "data": {
      "text/plain": [
       "(Complex{Float64}[-0.0195313+0.999809im, -0.984827+0.173541im, -0.1291-0.991632im, 1.0+0.0im], -29.350650310183017 - 0.0im)"
      ]
     },
     "execution_count": 339,
     "metadata": {},
     "output_type": "execute_result"
    }
   ],
   "source": [
    "w = flipdim(p.vert,1)\n",
    "beta = 1.0-flipdim(p.angle,1)\n",
    "zeta0 = Complex128[]\n",
    "n = length(w)\n",
    "tol = 1e-8\n",
    "nqpts = max(ceil(Int,-log10(tol)),2)\n",
    "qdat = SchwarzChristoffel.Integration.qdata(beta,nqpts)\n",
    "#len = abs.(diff(circshift(w,1)))\n",
    "#nmlen = abs.(len[3:n-1]/len[2])\n",
    "#depfun!(F,y) = depfunfull!(F,y,n,beta,nmlen,qdat)\n",
    "\n",
    "#y0 = zeros(n-1)\n",
    "#F0 = similar(y0)\n",
    "#df = OnceDifferentiable(depfun!, y0, F0)\n",
    "#sol = nlsolve(depfun!,y0,show_trace = :true)\n",
    "\n",
    "#zeta, θ = SchwarzChristoffel.Exterior.y_to_zeta(sol.zero)\n",
    "#zeta\n",
    "zeta, c = deparam(w,beta,zeta0,qdat)"
   ]
  },
  {
   "cell_type": "code",
   "execution_count": 331,
   "metadata": {},
   "outputs": [
    {
     "data": {
      "text/plain": [
       "4-element Array{Complex{Float64},1}:\n",
       " -0.0195313+0.999809im\n",
       "  -0.984827+0.173541im\n",
       "    -0.1291-0.991632im\n",
       "        1.0+0.0im     "
      ]
     },
     "execution_count": 331,
     "metadata": {},
     "output_type": "execute_result"
    }
   ],
   "source": [
    "zeta"
   ]
  },
  {
   "cell_type": "code",
   "execution_count": null,
   "metadata": {},
   "outputs": [],
   "source": [
    "SchwarzChristoffel.Exterior.Extermap(p)"
   ]
  },
  {
   "cell_type": "code",
   "execution_count": null,
   "metadata": {},
   "outputs": [],
   "source": [
    "deparam(flipdim(p.vert,1),1.-flipdim(p.angle,1),Complex128[],qdat)"
   ]
  },
  {
   "cell_type": "code",
   "execution_count": 387,
   "metadata": {},
   "outputs": [
    {
     "name": "stdout",
     "output_type": "stream",
     "text": [
      "Iter     f(x) inf-norm    Step 2-norm \n",
      "------   --------------   --------------\n",
      "     0     4.495126e-01              NaN\n",
      "     1     1.252776e-01     3.431283e-01\n",
      "     2     5.028244e-03     5.025959e-02\n",
      "     3     9.186100e-06     2.103350e-03\n",
      "     4     3.262679e-11     5.951120e-06\n",
      "-0.6618235122093528 + 0.7496596819136512im\n",
      "Complex{Float64}[-1.0+1.0im, 0.5+1.0im]\n"
     ]
    },
    {
     "data": {
      "text/plain": [
       "(Complex{Float64}[-0.0567902+0.998386im, -0.983643+0.180131im, -0.0977323-0.995213im, 1.0+0.0im], -30.681522225215488 - 0.0im)"
      ]
     },
     "execution_count": 387,
     "metadata": {},
     "output_type": "execute_result"
    }
   ],
   "source": [
    "zeta,c = SchwarzChristoffel.Exterior.deparam(w,beta,zeta0,qdat)"
   ]
  },
  {
   "cell_type": "code",
   "execution_count": 384,
   "metadata": {},
   "outputs": [
    {
     "data": {
      "text/plain": [
       "-30.681522225215488 - 0.0im"
      ]
     },
     "execution_count": 384,
     "metadata": {},
     "output_type": "execute_result"
    }
   ],
   "source": [
    "c"
   ]
  },
  {
   "cell_type": "code",
   "execution_count": 90,
   "metadata": {},
   "outputs": [
    {
     "data": {
      "text/plain": [
       "4-element Array{Float64,1}:\n",
       "  3.92699\n",
       "  1.5708 \n",
       " -4.39064\n",
       "  5.17604"
      ]
     },
     "execution_count": 90,
     "metadata": {},
     "output_type": "execute_result"
    }
   ],
   "source": [
    "θ = angle.(p.vert)\n",
    "θ[θ.<=0] = θ[θ.<=0] + 2π\n",
    "diff([0;θ[1:end-1];2π])"
   ]
  },
  {
   "cell_type": "code",
   "execution_count": 37,
   "metadata": {},
   "outputs": [
    {
     "data": {
      "text/plain": [
       "arraystuff2 (generic function with 1 method)"
      ]
     },
     "execution_count": 37,
     "metadata": {},
     "output_type": "execute_result"
    }
   ],
   "source": [
    "function arraystuff2(a::Vector{Float64},b::Vector{Complex128})\n",
    "    @assert length(a)==length(b)\n",
    "    a[1]\n",
    "end"
   ]
  },
  {
   "cell_type": "code",
   "execution_count": 41,
   "metadata": {},
   "outputs": [
    {
     "ename": "LoadError",
     "evalue": "\u001b[91mAssertionError: length(a) == length(b)\u001b[39m",
     "output_type": "error",
     "traceback": [
      "\u001b[91mAssertionError: length(a) == length(b)\u001b[39m",
      "",
      "Stacktrace:",
      " [1] \u001b[1marraystuff2\u001b[22m\u001b[22m\u001b[1m(\u001b[22m\u001b[22m::Array{Float64,1}, ::Array{Complex{Float64},1}\u001b[1m)\u001b[22m\u001b[22m at \u001b[1m./In[37]:2\u001b[22m\u001b[22m",
      " [2] \u001b[1minclude_string\u001b[22m\u001b[22m\u001b[1m(\u001b[22m\u001b[22m::String, ::String\u001b[1m)\u001b[22m\u001b[22m at \u001b[1m./loading.jl:522\u001b[22m\u001b[22m"
     ]
    }
   ],
   "source": [
    "arraystuff2([1.0;2.0],Complex128[1;4;5])"
   ]
  },
  {
   "cell_type": "code",
   "execution_count": 45,
   "metadata": {},
   "outputs": [
    {
     "data": {
      "text/plain": [
       "Array{Complex{Float64},1}"
      ]
     },
     "execution_count": 45,
     "metadata": {},
     "output_type": "execute_result"
    }
   ],
   "source": [
    "typeof(Complex128[])"
   ]
  },
  {
   "cell_type": "code",
   "execution_count": 53,
   "metadata": {},
   "outputs": [
    {
     "data": {
      "text/plain": [
       "Int64"
      ]
     },
     "execution_count": 53,
     "metadata": {},
     "output_type": "execute_result"
    }
   ],
   "source": [
    "typeof(max(ceil(Int,-log10(1e-8)),2))"
   ]
  },
  {
   "cell_type": "code",
   "execution_count": 49,
   "metadata": {},
   "outputs": [
    {
     "ename": "LoadError",
     "evalue": "\u001b[91margument is an abstract type; size is indeterminate\u001b[39m",
     "output_type": "error",
     "traceback": [
      "\u001b[91margument is an abstract type; size is indeterminate\u001b[39m",
      "",
      "Stacktrace:",
      " [1] \u001b[1msizeof\u001b[22m\u001b[22m\u001b[1m(\u001b[22m\u001b[22m::Type{T} where T\u001b[1m)\u001b[22m\u001b[22m at \u001b[1m./essentials.jl:159\u001b[22m\u001b[22m",
      " [2] \u001b[1minclude_string\u001b[22m\u001b[22m\u001b[1m(\u001b[22m\u001b[22m::String, ::String\u001b[1m)\u001b[22m\u001b[22m at \u001b[1m./loading.jl:522\u001b[22m\u001b[22m"
     ]
    }
   ],
   "source": [
    "sizeof(Integer)"
   ]
  },
  {
   "cell_type": "code",
   "execution_count": null,
   "metadata": {},
   "outputs": [],
   "source": []
  }
 ],
 "metadata": {
  "kernelspec": {
   "display_name": "Julia 0.6.2",
   "language": "julia",
   "name": "julia-0.6"
  },
  "language_info": {
   "file_extension": ".jl",
   "mimetype": "application/julia",
   "name": "julia",
   "version": "0.6.2"
  }
 },
 "nbformat": 4,
 "nbformat_minor": 2
}
