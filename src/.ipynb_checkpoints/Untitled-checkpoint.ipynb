{
 "cells": [
  {
   "cell_type": "code",
   "execution_count": 315,
   "metadata": {},
   "outputs": [
    {
     "name": "stderr",
     "output_type": "stream",
     "text": [
      "WARNING: replacing module SchwarzChristoffel\n"
     ]
    },
    {
     "data": {
      "text/plain": [
       "SchwarzChristoffel"
      ]
     },
     "execution_count": 315,
     "metadata": {},
     "output_type": "execute_result"
    }
   ],
   "source": [
    "include(\"SchwarzChristoffel.jl\")"
   ]
  },
  {
   "cell_type": "code",
   "execution_count": 317,
   "metadata": {},
   "outputs": [
    {
     "data": {
      "text/plain": [
       "Polygon with 5 vertices at Complex{Float64}[-1.0-1.0im, 1.0-1.0im, 0.5+1.0im, -1.0+1.0im, -1.0+1.0im] \n",
       "             interior angles/π = [-0.5, -0.578, -0.422, 0.0, 0.0]\n"
      ]
     },
     "execution_count": 317,
     "metadata": {},
     "output_type": "execute_result"
    }
   ],
   "source": [
    "p = SchwarzChristoffel.Polygon([-1.0,1.0,0.5,-1.0,-1.0],[-1.0,-1.0,1.0,1.0,1.0])"
   ]
  },
  {
   "cell_type": "code",
   "execution_count": 158,
   "metadata": {},
   "outputs": [
    {
     "data": {
      "image/png": "[encoded data removed]",
      "text/plain": [
       "PyPlot.Figure(PyObject <matplotlib.figure.Figure object at 0x127ebba10>)"
      ]
     },
     "metadata": {},
     "output_type": "display_data"
    },
    {
     "data": {
      "text/plain": [
       "(-1.1, 1.1, -1.1, 1.1)"
      ]
     },
     "execution_count": 158,
     "metadata": {},
     "output_type": "execute_result"
    }
   ],
   "source": [
    "SchwarzChristoffel.Polygons.plot(p)"
   ]
  },
  {
   "cell_type": "code",
   "execution_count": 137,
   "metadata": {},
   "outputs": [
    {
     "data": {
      "text/plain": [
       "4-element Array{Float64,1}:\n",
       " NaN  \n",
       "   1.0\n",
       " NaN  \n",
       " NaN  "
      ]
     },
     "execution_count": 137,
     "metadata": {},
     "output_type": "execute_result"
    }
   ],
   "source": [
    "SchwarzChristoffel.Polygons.angle(p.vert)"
   ]
  },
  {
   "cell_type": "code",
   "execution_count": 159,
   "metadata": {},
   "outputs": [
    {
     "data": {
      "text/plain": [
       "false"
      ]
     },
     "execution_count": 159,
     "metadata": {},
     "output_type": "execute_result"
    }
   ],
   "source": [
    "SchwarzChristoffel.Polygons.isinf(p)"
   ]
  },
  {
   "cell_type": "code",
   "execution_count": 288,
   "metadata": {},
   "outputs": [
    {
     "data": {
      "text/plain": [
       "-0.5394176951966886 + 0.10788353903933773im"
      ]
     },
     "execution_count": 288,
     "metadata": {},
     "output_type": "execute_result"
    }
   ],
   "source": [
    "z = -1+im*0.2\n",
    "scale = mean(abs.(diff(circshift(p.vert,-1))))\n",
    "\n",
    "w = p.vert/scale\n",
    "z = z/scale"
   ]
  },
  {
   "cell_type": "code",
   "execution_count": 319,
   "metadata": {},
   "outputs": [
    {
     "data": {
      "image/png": "[encoded data removed]",
      "text/plain": [
       "PyPlot.Figure(PyObject <matplotlib.figure.Figure object at 0x127cdf0d0>)"
      ]
     },
     "metadata": {},
     "output_type": "display_data"
    },
    {
     "data": {
      "text/plain": [
       "1×2 BitArray{2}:\n",
       " false  true"
      ]
     },
     "execution_count": 319,
     "metadata": {},
     "output_type": "execute_result"
    }
   ],
   "source": [
    "z = [0.71+im*0.2 0.2+im*0]\n",
    "SchwarzChristoffel.Polygons.plot(p)\n",
    "PyPlot.plot(real.(z),imag.(z),marker=\"o\")\n",
    "SchwarzChristoffel.Polygons.isinpoly.(z,p,1e-5)"
   ]
  },
  {
   "cell_type": "code",
   "execution_count": 265,
   "metadata": {},
   "outputs": [
    {
     "data": {
      "text/plain": [
       "4-element Array{Float64,1}:\n",
       "  0.327979\n",
       "  0.327979\n",
       "  0.344042\n",
       " -1.0     "
      ]
     },
     "execution_count": 265,
     "metadata": {},
     "output_type": "execute_result"
    }
   ],
   "source": [
    "d = w .- z\n",
    "d[abs.(d) .< eps()] .= eps()\n",
    "ang = angle.(circshift(d,-1)./d) / pi"
   ]
  },
  {
   "cell_type": "code",
   "execution_count": 266,
   "metadata": {},
   "outputs": [],
   "source": [
    "tangents = sign.(circshift(w,-1)-w)\n",
    "for p = find( tangents .== 0 )\n",
    "    v = [w[p+1:end];w]\n",
    "    g = find(v.!=w[p])\n",
    "    tangents[p] = sign(v[g[1]]-w[p])\n",
    "end\n",
    "#     v = [w(p+1:n);w(1:n)];\n",
    "#     g = find(v ~= w(p));\n",
    "#     tangents(p) = sign(v(g(1)) - w(p));\n",
    "#   end"
   ]
  },
  {
   "cell_type": "code",
   "execution_count": 267,
   "metadata": {},
   "outputs": [
    {
     "data": {
      "text/plain": [
       "4-element BitArray{1}:\n",
       " false\n",
       " false\n",
       " false\n",
       "  true"
      ]
     },
     "execution_count": 267,
     "metadata": {},
     "output_type": "execute_result"
    }
   ],
   "source": [
    "tol = eps()\n",
    "onbdy = abs.(imag.(d./tangents)) .< 10*tol\n",
    "onvtx = abs.(d) .< tol\n",
    "onbdy = onbdy .& ( (abs.(ang) .> 0.9) .| onvtx .| circshift(onvtx,-1) )"
   ]
  },
  {
   "cell_type": "code",
   "execution_count": 277,
   "metadata": {},
   "outputs": [
    {
     "data": {
      "text/plain": [
       "true"
      ]
     },
     "execution_count": 277,
     "metadata": {},
     "output_type": "execute_result"
    }
   ],
   "source": [
    "interior = ~any(onbdy);\n",
    "if interior\n",
    "     index = round(sum(ang)/2)\n",
    "else\n",
    "    S = sum(ang[.~onbdy])\n",
    "    b = beta[onvtx]\n",
    "    augment = sum(onbdy) - sum(onvtx) - sum(b)\n",
    "\n",
    "    index = round(augment*sign(S) + S)/2\n",
    "end\n",
    "index==1"
   ]
  },
  {
   "cell_type": "code",
   "execution_count": 105,
   "metadata": {},
   "outputs": [
    {
     "data": {
      "text/plain": [
       "1-element Array{Float64,1}:\n",
       " -0.577979"
      ]
     },
     "execution_count": 105,
     "metadata": {},
     "output_type": "execute_result"
    }
   ],
   "source": [
    "w = copy(p.vert)\n",
    "dw = diff( [w[end];w] )\n",
    "dwshift = circshift(dw,-1)\n",
    "beta = fill(NaN,length(w))\n",
    "beta[mask] = angle.( dw[mask].*conj.(dwshift[mask]) )/π"
   ]
  },
  {
   "cell_type": "code",
   "execution_count": 272,
   "metadata": {},
   "outputs": [
    {
     "data": {
      "text/plain": [
       "4-element BitArray{1}:\n",
       " false\n",
       " false\n",
       " false\n",
       "  true"
      ]
     },
     "execution_count": 272,
     "metadata": {},
     "output_type": "execute_result"
    }
   ],
   "source": [
    "onbdy"
   ]
  },
  {
   "cell_type": "code",
   "execution_count": 111,
   "metadata": {},
   "outputs": [
    {
     "data": {
      "text/plain": [
       "0-element Array{Float64,1}"
      ]
     },
     "execution_count": 111,
     "metadata": {},
     "output_type": "execute_result"
    }
   ],
   "source": [
    "beta[mods] = ones(beta[mods])"
   ]
  },
  {
   "cell_type": "code",
   "execution_count": null,
   "metadata": {},
   "outputs": [],
   "source": []
  },
  {
   "cell_type": "code",
   "execution_count": null,
   "metadata": {},
   "outputs": [],
   "source": []
  }
 ],
 "metadata": {
  "kernelspec": {
   "display_name": "Julia 0.6.2",
   "language": "julia",
   "name": "julia-0.6"
  },
  "language_info": {
   "file_extension": ".jl",
   "mimetype": "application/julia",
   "name": "julia",
   "version": "0.6.2"
  }
 },
 "nbformat": 4,
 "nbformat_minor": 2
}
